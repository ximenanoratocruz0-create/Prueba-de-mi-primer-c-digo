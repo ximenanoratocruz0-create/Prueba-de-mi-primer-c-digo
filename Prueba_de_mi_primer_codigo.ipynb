{
  "nbformat": 4,
  "nbformat_minor": 0,
  "metadata": {
    "colab": {
      "provenance": [],
      "authorship_tag": "ABX9TyNZ9yslf2KtaRo7Nb3KXSFI",
      "include_colab_link": true
    },
    "kernelspec": {
      "name": "python3",
      "display_name": "Python 3"
    },
    "language_info": {
      "name": "python"
    }
  },
  "cells": [
    {
      "cell_type": "markdown",
      "metadata": {
        "id": "view-in-github",
        "colab_type": "text"
      },
      "source": [
        "<a href=\"https://colab.research.google.com/github/ximenanoratocruz0-create/Prueba-de-mi-primer-c-digo/blob/main/Prueba_de_mi_primer_codigo.ipynb\" target=\"_parent\"><img src=\"https://colab.research.google.com/assets/colab-badge.svg\" alt=\"Open In Colab\"/></a>"
      ]
    },
    {
      "cell_type": "code",
      "source": [
        "print(\"Mi primer código, el inicio de programación\")"
      ],
      "metadata": {
        "colab": {
          "base_uri": "https://localhost:8080/"
        },
        "id": "5VpfMp3_9IIS",
        "outputId": "78de3c24-f376-4c4a-d049-102d952bc96f"
      },
      "execution_count": 2,
      "outputs": [
        {
          "output_type": "stream",
          "name": "stdout",
          "text": [
            "Mi primer código, el inicio de programación\n"
          ]
        }
      ]
    },
    {
      "cell_type": "markdown",
      "source": [
        "###En esta primera práctica de crear un notebook, use el comando print para mostrar un mensaje en la pantalla, la frase que puse fue print(\"Mi primer código, el inicio de programación\"), le di ejecutar y mostró el mensaje."
      ],
      "metadata": {
        "id": "H5HX4tBND2FZ"
      }
    }
  ]
}